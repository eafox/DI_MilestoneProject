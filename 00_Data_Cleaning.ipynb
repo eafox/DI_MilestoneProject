{
 "cells": [
  {
   "cell_type": "markdown",
   "metadata": {},
   "source": [
    "#### Package Imports"
   ]
  },
  {
   "cell_type": "code",
   "execution_count": null,
   "metadata": {
    "collapsed": true
   },
   "outputs": [],
   "source": [
    "import numpy as np\n",
    "import pandas as pd"
   ]
  },
  {
   "cell_type": "code",
   "execution_count": null,
   "metadata": {
    "collapsed": true
   },
   "outputs": [],
   "source": []
  },
  {
   "cell_type": "code",
   "execution_count": null,
   "metadata": {
    "collapsed": true
   },
   "outputs": [],
   "source": [
    "\n",
    "#Import Main Data Set\n",
    "incidents<-read.csv(\"Use_ofForce.csv\",header=T)\n",
    "BaseDF<-data.frame(Date=incidents[,1])\n",
    "BaseDF$Month<-as.numeric(regmatches(incidents$Incident.date..dd.mm.yy.,regexpr(\"\\\\d*\",incidents$Incident.date..dd.mm.yy.)))\n",
    "BaseDF$Month[BaseDF$Month==\"1\"]<-\"13\"\n",
    "BaseDF$Month[BaseDF$Month==\"2\"]<-\"14\"\n",
    "BaseDF$Hour<-regmatches(incidents$Incident.time..hh.mm.,regexpr(\"\\\\d*\",incidents$Incident.time..hh.mm.))\n",
    "BaseDF$Borough<-incidents$LPA.BCU.OPU..UoF.carried.out\n",
    "BaseDF$Location<-NA\n",
    "for (i in 1:nrow(incidents)){\n",
    "  for (j in 3:17){\n",
    "    if (incidents[i,j]==\"Yes\"){\n",
    "      fullLoc<-colnames(incidents)[j]\n",
    "      BaseDF$Location[i]<-substring(fullLoc, 20)\n",
    "    }\n",
    "  }\n",
    "}\n",
    "BaseDF$Subject_Behavior<-incidents$Primary..conduct.of.subject...behaviour\n",
    "BaseDF$Threat_orAssault<-NA\n",
    "for (i in 1:nrow(incidents)){\n",
    "  for (j in 20:22){\n",
    "    if (incidents[i,j]==\"Yes\"){\n",
    "      BaseDF$Threat_orAssault[i]<-colnames(incidents)[j]\n",
    "    }\n",
    "  }\n",
    "}\n",
    "BaseDF[,8:33]<-incidents[,23:48]\n",
    "BaseDF$Final_Effective_Tactic<-NA\n",
    "for (i in 1:nrow(incidents)){\n",
    "  for (j in seq(from=88,to=50,by=-2)){\n",
    "    if (incidents[i,j]==\"Yes\"){\n",
    "      BaseDF$Final_Effective_Tactic[i]<-as.character(incidents[i,j-1])\n",
    "    }\n",
    "  }\n",
    "}\n",
    "BaseDF$Final_Effective_Tactic<-as.character(BaseDF$Final_Effective_Tactic)\n",
    "BaseDF$Final_Effective_Tactic[BaseDF$Final_Effective_Tactic==\"Unarmed skills (including pressure points, strikes, restraints and take-downs)\"]<-\"Unarmed Skills\"\n",
    "BaseDF$Final_Effective_Tactic<-as.factor(BaseDF$Final_Effective_Tactic)\n",
    "BaseDF$Num_Tactics_Tried<-NA\n",
    "for (i in 1:nrow(incidents)){\n",
    "  counter<-0\n",
    "  for (j in seq(from=50,to=88,by=2)){\n",
    "    if (as.character(incidents[i,j])!=\"NULL\"){\n",
    "      counter<-counter+1\n",
    "    }\n",
    "  }\n",
    "  BaseDF$Num_Tactics_Tried[i]<-counter\n",
    "}\n",
    "BaseDF[,36:54]<-incidents[,253:271]\n",
    "\n",
    "##################################\n",
    "# DEMOGRAPHIC AND OTHER METADATA #\n",
    "##################################\n",
    "#Add in demographic info by borough\n",
    "crimeRateDF<-read.csv(\"crime_rate.csv\",header = TRUE, stringsAsFactors = FALSE)\n",
    "FullDF<-merge(BaseDF,crimeRateDF, all.x = TRUE,by=\"Borough\")\n",
    "\n",
    "#Add in wellbeing data\n",
    "wellbeingDF<-read.csv(\"wellbeing.csv\",header=TRUE, stringsAsFactors = FALSE) \n",
    "collapse_wellbeing<-aggregate(wellbeingDF[colnames(wellbeingDF)[5:16]], by = list(wellbeingDF$Borough), FUN = \"sum\")\n",
    "colnames(collapse_wellbeing)[1]<-\"Borough\"\n",
    "FullDF<-merge(FullDF,collapse_wellbeing, all.x = TRUE,by=\"Borough\")\n",
    "\n",
    "#social metrics\n",
    "socialDF<-read.csv(\"social_metrics.csv\", stringsAsFactors = FALSE)\n",
    "FullDF<-merge(FullDF,socialDF, all.x = TRUE,by=\"Borough\")\n",
    "\n",
    "write.table(FullDF, file=\"00_FullDF.csv\", col.names = TRUE, sep=\",\")"
   ]
  }
 ],
 "metadata": {
  "kernelspec": {
   "display_name": "Python 3",
   "language": "python",
   "name": "python3"
  },
  "language_info": {
   "codemirror_mode": {
    "name": "ipython",
    "version": 3
   },
   "file_extension": ".py",
   "mimetype": "text/x-python",
   "name": "python",
   "nbconvert_exporter": "python",
   "pygments_lexer": "ipython3",
   "version": "3.6.2"
  }
 },
 "nbformat": 4,
 "nbformat_minor": 2
}
